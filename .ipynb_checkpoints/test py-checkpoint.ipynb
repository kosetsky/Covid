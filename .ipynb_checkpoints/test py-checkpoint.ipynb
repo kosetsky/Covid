{
 "cells": [
  {
   "cell_type": "code",
   "execution_count": 86,
   "metadata": {},
   "outputs": [],
   "source": [
    "import requests\n",
    "import pandas as pd\n",
    "import numpy as np\n",
    "from datetime import datetime"
   ]
  },
  {
   "cell_type": "code",
   "execution_count": 14,
   "metadata": {},
   "outputs": [
    {
     "data": {
      "text/plain": [
       "901020"
      ]
     },
     "execution_count": 14,
     "metadata": {},
     "output_type": "execute_result"
    }
   ],
   "source": [
    "url=\"https://www.ecdc.europa.eu/sites/default/files/documents/COVID-19-geographic-disbtribution-worldwide.xlsx\"\n",
    "\n",
    "myfile = requests.get(url, allow_redirects=True)\n",
    "open('D:/My documents/!GoogleDrive/Public/covid-19/covid_19.xlsx', 'wb').write(myfile.content)\n"
   ]
  },
  {
   "cell_type": "code",
   "execution_count": 58,
   "metadata": {},
   "outputs": [],
   "source": [
    "df = pd.read_excel('D:/My documents/!GoogleDrive/Public/covid-19/covid_19.xlsx')\n",
    "df=df.rename(columns = {\"countriesAndTerritories\":\"Country\",\n",
    "  df.columns[0]:\"date\",\n",
    "  \"cases\":\"Infected_new\",\n",
    "  \"deaths\":\"Deaths_new\",\n",
    "  \"continentExp\":\"region\",\n",
    "  }).sort_values(by=['Country','date'])\n",
    "\n",
    "\n",
    "df.loc[df.date.isin([\"2020-04-03\",\"2020-04-04\",\"2020-05-18\",\"2020-05-20\"]) & (df.Country==\"France\"),\n",
    "  \"Deaths_new\"]=[1355,1120,300,183]\n",
    "df.loc[df.date.isin([\"2020-04-27\",\"2020-04-28\",\"2020-04-29\"]) & (df.Country==\"Spain\"),\n",
    "  \"Deaths_new\"]=[331,301,325]  \n",
    "df.loc[df.date.isin([\"2020-04-27\",\"2020-05-01\",\"2020-05-01\"]) & (df.Country==\"Germany\"),\n",
    "  \"Deaths_new\"]=[193,94]  \n",
    "\n",
    "df[\"date\"]=df['date'] - pd.to_timedelta(1,unit='d')\n",
    "df[\"Country\"]=df[\"Country\"].replace(\"United States of America|United_States_of_America\",\"USA\", regex=True )\n",
    "df[\"Country\"]=df[\"Country\"].replace(\"United Kingdom|United kingdom|United_Kingdom\",\"UK\", regex=True )\n",
    "df[\"Country\"]=df[\"Country\"].replace(\"United_Arab_Emirates\",\"UAE\", regex=True )\n",
    "df[\"Country\"]=df[\"Country\"].replace(\"_\",\" \", regex=True )\n",
    "\n",
    "dates=pd.DataFrame(data=pd.date_range(\"2019-12-30\",date.today()- timedelta(days = 1)),columns=[\"date\"])"
   ]
  }
 ],
 "metadata": {
  "kernelspec": {
   "display_name": "Python 3",
   "language": "python",
   "name": "python3"
  },
  "language_info": {
   "codemirror_mode": {
    "name": "ipython",
    "version": 3
   },
   "file_extension": ".py",
   "mimetype": "text/x-python",
   "name": "python",
   "nbconvert_exporter": "python",
   "pygments_lexer": "ipython3",
   "version": "3.7.3"
  }
 },
 "nbformat": 4,
 "nbformat_minor": 2
}
